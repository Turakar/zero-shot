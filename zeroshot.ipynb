{
 "cells": [
  {
   "cell_type": "markdown",
   "metadata": {},
   "source": [
    "# Reproducing zero-shot results of ESM\n",
    "- mutagenesis: BLAT_ECOLX_Ranganathan2015\n",
    "- model: ESM-1v (seeds 1 to 5)"
   ]
  },
  {
   "cell_type": "markdown",
   "metadata": {},
   "source": [
    "## Download and load data"
   ]
  },
  {
   "cell_type": "code",
   "execution_count": 16,
   "metadata": {},
   "outputs": [
    {
     "name": "stdout",
     "output_type": "stream",
     "text": [
      "23\n"
     ]
    }
   ],
   "source": [
    "wildtype_esm = \"HPETLVKVKDAEDQLGARVGYIELDLNSGKILESFRPEERFPMMSTFKVLLCGAVLSRVDAGQEQLGRRIHYSQNDLVEYSPVTEKHLTDGMTVRELCSAAITMSDNTAANLLLTTIGGPKELTAFLHNMGDHVTRLDRWEPELNEAIPNDERDTTMPAAMATTLRKLLTGELLTLASRQQLIDWMEADKVAGPLLRSALPAGWFIADKSGAGERGSRGIIAALGPDGKPSRIVVIYTTGSQATMDERNRQIAEIGASLIKHW\"\n",
    "wildtype_full = \"MSIQHFRVALIPFFAAFCLPVFAHPETLVKVKDAEDQLGARVGYIELDLNSGKILESFRPEERFPMMSTFKVLLCGAVLSRVDAGQEQLGRRIHYSQNDLVEYSPVTEKHLTDGMTVRELCSAAITMSDNTAANLLLTTIGGPKELTAFLHNMGDHVTRLDRWEPELNEAIPNDERDTTMPAAMATTLRKLLTGELLTLASRQQLIDWMEADKVAGPLLRSALPAGWFIADKSGAGERGSRGIIAALGPDGKPSRIVVIYTTGSQATMDERNRQIAEIGASLIKHW\"\n",
    "\n",
    "# wildtype = wildtype_full\n",
    "# offset = 0\n",
    "\n",
    "wildtype = wildtype_esm\n",
    "offset = wildtype_full.find(wildtype_esm)\n",
    "print(offset)"
   ]
  },
  {
   "cell_type": "code",
   "execution_count": 19,
   "metadata": {},
   "outputs": [
    {
     "name": "stdout",
     "output_type": "stream",
     "text": [
      "Loaded 4788 mutants\n"
     ]
    }
   ],
   "source": [
    "import os\n",
    "import urllib.request\n",
    "import csv\n",
    "\n",
    "if not os.path.exists(\"data/raw_df.csv\"):\n",
    "    print(\"Downloading raw_df.csv...\")\n",
    "    urllib.request.urlretrieve(\"https://dl.fbaipublicfiles.com/fair-esm/examples/variant-prediction/data/raw_df.csv\", \"data/raw_df.csv\")\n",
    "\n",
    "mutants = []\n",
    "target_values = []\n",
    "\n",
    "with open(\"data/raw_df.csv\", \"r\") as fd:\n",
    "    reader = csv.DictReader(fd)\n",
    "    for row in reader:\n",
    "        if row[\"protein_name\"] == \"BLAT_ECOLX_Ranganathan2015\":\n",
    "            mutants.append([])\n",
    "            for mutation in row[\"mutant\"].split(\":\"):\n",
    "                original = mutation[0]\n",
    "                pos = int(mutation[1:-1]) - 1 - offset\n",
    "                amino_acid = mutation[-1]\n",
    "                assert wildtype[pos] == original, f\"Wildtype amino acid at position {pos} is {wildtype[pos]}, not {original}\"\n",
    "                mutants[-1].append((pos, amino_acid))\n",
    "            target_values.append(float(row[\"gt\"]))\n",
    "\n",
    "print(f\"Loaded {len(mutants)} mutants\")"
   ]
  },
  {
   "cell_type": "markdown",
   "metadata": {},
   "source": [
    "## Computing zero-shot scores\n",
    "\n",
    "- Load foundation model\n",
    "- Compute zero-shot score using masked marginal strategy (strategy (a), Eq. (1))"
   ]
  },
  {
   "cell_type": "code",
   "execution_count": 21,
   "metadata": {},
   "outputs": [
    {
     "data": {
      "application/vnd.jupyter.widget-view+json": {
       "model_id": "98fd59d2d3f54f9c8d0d361b787b3ed4",
       "version_major": 2,
       "version_minor": 0
      },
      "text/plain": [
       "Model 1:   0%|          | 0/4788 [00:00<?, ?it/s]"
      ]
     },
     "metadata": {},
     "output_type": "display_data"
    }
   ],
   "source": [
    "import esm\n",
    "import torch\n",
    "from tqdm.auto import tqdm\n",
    "\n",
    "scores_path = \"data/scores-esm2_t30.pt\"\n",
    "\n",
    "try:\n",
    "    scores = torch.load(scores_path)\n",
    "except FileNotFoundError:\n",
    "    ensemble = [\n",
    "        # esm.pretrained.esm1v_t33_650M_UR90S_1,\n",
    "        # esm.pretrained.esm1v_t33_650M_UR90S_2,\n",
    "        # esm.pretrained.esm1v_t33_650M_UR90S_3,\n",
    "        # esm.pretrained.esm1v_t33_650M_UR90S_4,\n",
    "        # esm.pretrained.esm1v_t33_650M_UR90S_5,\n",
    "        esm.pretrained.esm2_t30_150M_UR50D,\n",
    "    ]\n",
    "    device = torch.device(\"cuda\" if torch.cuda.is_available() else \"cpu\")\n",
    "\n",
    "    scores = torch.zeros(len(mutants), len(ensemble))\n",
    "    with torch.no_grad():\n",
    "        for i, model_factory in enumerate(ensemble):\n",
    "            model, alphabet = model_factory()\n",
    "            model.half()\n",
    "            model.to(device)\n",
    "            batch_converter = alphabet.get_batch_converter()\n",
    "            \n",
    "            # Tokenize wildtype sequence\n",
    "            _, _, wt_tokens = batch_converter([(\"\", wildtype)])\n",
    "            \n",
    "            for j in tqdm(range(len(mutants)), desc=f\"Model {i + 1}\"):\n",
    "                # Mask wildtype sequence at all mutated positions\n",
    "                tokens = wt_tokens.clone()\n",
    "                for (pos, _) in mutants[j]:\n",
    "                    tokens[:, pos + 1] = alphabet.mask_idx  # offset by 1 due to CLS token\n",
    "                \n",
    "                # Compute log probabilities\n",
    "                log_probs = torch.log_softmax(model(tokens.to(device))[\"logits\"], dim=-1)\n",
    "                log_probs = log_probs[0, 1:-1].cpu()\n",
    "                \n",
    "                # Compute masked marginal probability\n",
    "                score = torch.tensor(0.0)\n",
    "                for (pos, aa) in mutants[j]:\n",
    "                    score += (\n",
    "                        log_probs[pos, alphabet.get_idx(aa)] -\n",
    "                        log_probs[pos, alphabet.get_idx(wildtype[pos])]\n",
    "                    )\n",
    "                scores[j, i] = score\n",
    "            del model  # Free memory\n",
    "    torch.save(scores, scores_path)"
   ]
  },
  {
   "cell_type": "markdown",
   "metadata": {},
   "source": [
    "## Evaluation\n",
    "- abs(spearmanr(target_values, scores))"
   ]
  },
  {
   "cell_type": "code",
   "execution_count": 22,
   "metadata": {},
   "outputs": [
    {
     "name": "stdout",
     "output_type": "stream",
     "text": [
      "Model 1: 0.683\n",
      "Ensemble: 0.683\n"
     ]
    }
   ],
   "source": [
    "from scipy.stats import spearmanr\n",
    "\n",
    "for i in range(scores.shape[-1]):\n",
    "    correlation = abs(spearmanr(target_values, scores[:, i]).correlation)\n",
    "    print(f\"Model {i + 1}: {correlation:.3f}\")\n",
    "correlation = abs(spearmanr(target_values, scores.mean(dim=-1)).correlation)\n",
    "print(f\"Ensemble: {correlation:.3f}\")"
   ]
  },
  {
   "cell_type": "code",
   "execution_count": null,
   "metadata": {},
   "outputs": [],
   "source": []
  }
 ],
 "metadata": {
  "kernelspec": {
   "display_name": ".venv",
   "language": "python",
   "name": "python3"
  },
  "language_info": {
   "codemirror_mode": {
    "name": "ipython",
    "version": 3
   },
   "file_extension": ".py",
   "mimetype": "text/x-python",
   "name": "python",
   "nbconvert_exporter": "python",
   "pygments_lexer": "ipython3",
   "version": "3.11.7"
  }
 },
 "nbformat": 4,
 "nbformat_minor": 2
}
